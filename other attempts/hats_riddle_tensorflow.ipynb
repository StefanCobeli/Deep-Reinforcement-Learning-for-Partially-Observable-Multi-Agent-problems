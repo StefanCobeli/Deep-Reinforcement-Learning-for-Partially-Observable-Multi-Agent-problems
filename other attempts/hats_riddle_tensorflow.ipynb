{
 "cells": [
  {
   "cell_type": "markdown",
   "metadata": {},
   "source": [
    "Same architecture form hats_riddle_keras.ipynb_ implemented directly in TensorFlow"
   ]
  },
  {
   "cell_type": "code",
   "execution_count": 1,
   "metadata": {
    "collapsed": true
   },
   "outputs": [],
   "source": [
    "import tensorflow as tf"
   ]
  },
  {
   "cell_type": "markdown",
   "metadata": {},
   "source": [
    "Using the notations from the article we first declare: $a^k, s^k$ (inputs of the actions/hats observed by each agent) and $m, n$ (the index of each agent and the total number of agents)."
   ]
  },
  {
   "cell_type": "code",
   "execution_count": 2,
   "metadata": {
    "collapsed": true
   },
   "outputs": [],
   "source": [
    "#a^k\n",
    "actions_input      = tf.placeholder(tf.float64, shape=(1, 1))\n",
    "#s^k\n",
    "observations_input = tf.placeholder(tf.float64, shape=(1, 1))\n",
    "\n",
    "#(m, n)\n",
    "index_input        = tf.placeholder(tf.float64, shape=(1, 2))"
   ]
  },
  {
   "cell_type": "markdown",
   "metadata": {},
   "source": [
    "Now we define $z^k_a$ and $z^k_s$, the output of the MLPs which will be feeded to the LSTM network."
   ]
  },
  {
   "cell_type": "code",
   "execution_count": 3,
   "metadata": {
    "collapsed": true
   },
   "outputs": [],
   "source": [
    "#z_a^k\n",
    "actions_mlp        = tf.layers.dense(actions_input, 64)\n",
    "actions_index_mlp  = tf.layers.dense(index_input, 64)\n",
    "\n",
    "actions_lstm_input = tf.add(actions_mlp, actions_index_mlp)\n",
    "\n",
    "#z_s^k\n",
    "observations_mlp        = tf.layers.dense(actions_input, 64)\n",
    "observations_index_mlp  = tf.layers.dense(index_input, 64)\n",
    "\n",
    "observations_lstm_input = tf.add(observations_mlp, observations_index_mlp)"
   ]
  },
  {
   "cell_type": "markdown",
   "metadata": {},
   "source": [
    "Now we define the LSTMs with the outputs $y_a^k, h_a^k$ and $y_s^k, h_s^k$ which will be passed to another MLP\n",
    "to predict the final decision. "
   ]
  },
  {
   "cell_type": "code",
   "execution_count": 4,
   "metadata": {
    "collapsed": true,
    "scrolled": false
   },
   "outputs": [],
   "source": [
    "#actions lstm construction\n",
    "\n",
    "#reshape the output of the dense layer in order to be a sequence of 64 inputs\n",
    "actions_lstm_input      = tf.reshape(actions_lstm_input, [1, 1, -1])\n",
    "actions_lstm_cell       = tf.contrib.rnn.BasicLSTMCell(64)\n",
    "actions_lstm_outputs, _ = tf.nn.dynamic_rnn(actions_lstm_cell,\\\n",
    "                                                                         actions_lstm_input,\\\n",
    "                                                                         dtype=tf.float64)\n",
    "# _ is actions_lstm_final_state\n",
    "\n",
    "#same approach for the observations lstm\n",
    "observations_lstm_input      = tf.reshape(observations_lstm_input, [1, 1, -1])\n",
    "observations_lstm_cell       = tf.contrib.rnn.BasicLSTMCell(64, reuse=True)\n",
    "observations_lstm_outputs, _ = tf.nn.dynamic_rnn(observations_lstm_cell,\\\n",
    "                                                 observations_lstm_input,\\\n",
    "                                                 dtype=tf.float64)\n",
    "# _ is observations_lstm_final_state"
   ]
  },
  {
   "cell_type": "markdown",
   "metadata": {},
   "source": [
    "Now we create the last part of the model. We feed the output of the LSTMs to an MLP in order to get the predictions $Q^m, m \\in [1, n]$."
   ]
  },
  {
   "cell_type": "code",
   "execution_count": 5,
   "metadata": {
    "collapsed": true
   },
   "outputs": [],
   "source": [
    "prediction_inputs  = tf.concat([observations_lstm_outputs[-1], actions_lstm_outputs[-1]], axis=1)\n",
    "\n",
    "prediction_layer_1 = tf.layers.dense(prediction_inputs, 64, activation=tf.nn.relu)\n",
    "prediction_layer_2 = tf.layers.dense(prediction_inputs, 64, activation=tf.nn.relu)\n",
    "prediction_output  = tf.layers.dense(prediction_inputs, 1, activation=tf.nn.relu)"
   ]
  },
  {
   "cell_type": "markdown",
   "metadata": {},
   "source": [
    "Let's make a mock prediction:"
   ]
  },
  {
   "cell_type": "code",
   "execution_count": 6,
   "metadata": {
    "collapsed": true
   },
   "outputs": [],
   "source": [
    "init = tf.global_variables_initializer()\n",
    "\n",
    "with tf.Session() as sess:\n",
    "    sess.run(init)\n",
    "    output = sess.run(prediction_output,\\\n",
    "                      feed_dict={actions_input: [[1]], observations_input: [[1]], index_input: [[1, 1]]})"
   ]
  },
  {
   "cell_type": "code",
   "execution_count": 7,
   "metadata": {},
   "outputs": [
    {
     "data": {
      "text/plain": [
       "array([[ 0.00161385]])"
      ]
     },
     "execution_count": 7,
     "metadata": {},
     "output_type": "execute_result"
    }
   ],
   "source": [
    "output"
   ]
  },
  {
   "cell_type": "markdown",
   "metadata": {},
   "source": [
    "Test everything goes as expected (i.e. shapes are ok and similar things)"
   ]
  },
  {
   "cell_type": "code",
   "execution_count": 45,
   "metadata": {},
   "outputs": [
    {
     "name": "stdout",
     "output_type": "stream",
     "text": [
      "Everything is fine until now!\n"
     ]
    }
   ],
   "source": [
    "import unittest\n",
    "\n",
    "class TestArchitecture(unittest.TestCase):\n",
    "\n",
    "    def test_lstm_input_shapes(self):\n",
    "        self.assertEqual(actions_lstm_input.shape, (1, 64))\n",
    "        self.assertEqual(observations_lstm_input.shape, (1, 64))\n",
    "        \n",
    "    def test_lstm_output_shapes(self):\n",
    "        self.assertEqual(actions_lstm_outputs[-1].shape, (1, 64))\n",
    "        self.assertEqual(observations_lstm_outputs[-1].shape, (1, 64))\n",
    "\n",
    "print(\"Everything is fine until now!\")"
   ]
  }
 ],
 "metadata": {
  "kernelspec": {
   "display_name": "Python [conda root]",
   "language": "python",
   "name": "conda-root-py"
  },
  "language_info": {
   "codemirror_mode": {
    "name": "ipython",
    "version": 3
   },
   "file_extension": ".py",
   "mimetype": "text/x-python",
   "name": "python",
   "nbconvert_exporter": "python",
   "pygments_lexer": "ipython3",
   "version": "3.6.4"
  }
 },
 "nbformat": 4,
 "nbformat_minor": 2
}
