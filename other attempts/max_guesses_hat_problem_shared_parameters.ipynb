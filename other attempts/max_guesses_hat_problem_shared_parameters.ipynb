{
 "cells": [
  {
   "cell_type": "markdown",
   "metadata": {},
   "source": [
    "In this problem there are $n$ prisoners and they can have hats of colors either red or blue. They are placed in a circle such that each can see the other $n − 1$ prisoners.\n",
    "\n",
    "They must simultaneously guess the color of their own hat and maximize the number of corrct guesses."
   ]
  },
  {
   "cell_type": "code",
   "execution_count": 1,
   "metadata": {
    "scrolled": true
   },
   "outputs": [
    {
     "name": "stderr",
     "output_type": "stream",
     "text": [
      "Using TensorFlow backend.\n"
     ]
    }
   ],
   "source": [
    "# import tensorflow as tf\n",
    "import numpy as np\n",
    "import matplotlib.pyplot as plt\n",
    "%matplotlib inline\n",
    "\n",
    "import keras\n",
    "from keras.models import Sequential\n",
    "from keras.layers import Dense, Activation, LSTM\n",
    "from keras.layers import Flatten, Reshape"
   ]
  },
  {
   "cell_type": "code",
   "execution_count": 2,
   "metadata": {
    "collapsed": true
   },
   "outputs": [],
   "source": [
    "def test_accuracy(Q_net):\n",
    "    number_of_agents = (int(model.layers[0].input.shape[1]) + 2) // 3#len(Q_nets)\n",
    "    Q = Q_net\n",
    "    reward = 0\n",
    "    for ep in range(10000):\n",
    "        hats = [np.random.randint(2) for i in range(number_of_agents)]\n",
    "        \n",
    "        states = [hats[:i] + hats[i+1:] for i in range(number_of_agents)]\n",
    "\n",
    "        #The Q-Network\n",
    "        #Take actions in for the agents\n",
    "        actions = []\n",
    "        batch = []\n",
    "        for i in range(number_of_agents):\n",
    "            state = states[i]\n",
    "\n",
    "            q_input = [[1, 0] if color == 0 else [0, 1] for color in state]\n",
    "            q_input += [i * [0] + [1] + (number_of_agents - i - 1) * [0]]\n",
    "            q_input = [bit for q in q_input for bit in q]\n",
    "            batch.append(np.reshape(q_input, (-1, 3 * number_of_agents - 2)))#-1, 2 * number_of_agents - 1)) / number_of_agents)\n",
    "\n",
    "        predictions = model.predict( np.reshape(batch,\\\n",
    "                                            (number_of_agents, 3 * number_of_agents - 2))\\\n",
    "                                    , batch_size=number_of_agents)\n",
    "        actions = [np.random.randint(2) if np.random.rand(1) < e else p.argmax()\\\n",
    "                   for p in predictions] \n",
    "        preds = np.choose(actions, predictions.T)\n",
    "        actions = list(zip(actions, predictions))\n",
    "\n",
    "\n",
    "        validate = sum(actions[x][0] == hats[x] for x in range(number_of_agents))\n",
    "        reward += validate\n",
    "    return reward / 10000."
   ]
  },
  {
   "cell_type": "code",
   "execution_count": 3,
   "metadata": {},
   "outputs": [],
   "source": [
    "\n",
    "number_of_agents = 18\n",
    "\n",
    "model = Sequential()\n",
    "model.add(Dense(128, activation='relu', input_dim=3 * number_of_agents - 2))\n",
    "# model.add(Dense(128, activation='relu'))\n",
    "model.add(Reshape((1, 128)))\n",
    "model.add(LSTM(75))\n",
    "\n",
    "# model.add(Reshape((1, 75)))\n",
    "#model.add(LSTM(64))\n",
    "# model.add(Dense((64, 64), activation='relu'))\n",
    "# model.add(Dense(30, activation='relu'))\n",
    "# model.add(Dense(40, activation='relu'))\n",
    "# model.add(Dense(128, activation='relu'))\n",
    "# model.add(Dense(64, activation='relu'))\n",
    "model.add(Dense(32, activation='relu'))\n",
    "# model.add(Dense(16, activation='relu'))\n",
    "model.add(Dense(8, activation='relu'))\n",
    "#model.add(Dense(16, activation='relu'))\n",
    "#model.add(Flatten())\n",
    "model.add(Dense(2, activation='sigmoid'))\n",
    "adam = keras.optimizers.Adagrad(lr=0.01, epsilon=None, decay=0.0)\n",
    "model.compile(optimizer=adam,\n",
    "              loss='categorical_crossentropy',\n",
    "              metrics=['categorical_accuracy'])\n",
    "\n",
    "rList = []#test_accuracy(model)]"
   ]
  },
  {
   "cell_type": "code",
   "execution_count": 4,
   "metadata": {},
   "outputs": [
    {
     "name": "stdout",
     "output_type": "stream",
     "text": [
      "There are a total of 70698 trainable parameters.\n",
      "The probability of random succes is 0.64.\n"
     ]
    }
   ],
   "source": [
    "print(\"There are a total of {0:d} trainable parameters.\"\\\n",
    "      .format(model.count_params()))\n",
    "print(\"The probability of random succes is {0:.2f}.\"\\\n",
    "      .format(1 - (((number_of_agents - 1) / number_of_agents) ** number_of_agents)))"
   ]
  },
  {
   "cell_type": "code",
   "execution_count": 299,
   "metadata": {
    "scrolled": true
   },
   "outputs": [
    {
     "name": "stdout",
     "output_type": "stream",
     "text": [
      "Number of saved agents, after 5.0% of the number of episodes, is 10.65/18;\n",
      "Number of saved agents, after 10.0% of the number of episodes, is 10.74/18;\n",
      "Number of saved agents, after 15.0% of the number of episodes, is 10.80/18;\n",
      "Number of saved agents, after 20.0% of the number of episodes, is 10.89/18;\n",
      "Number of saved agents, after 25.0% of the number of episodes, is 10.93/18;\n",
      "Number of saved agents, after 30.0% of the number of episodes, is 10.99/18;\n",
      "Number of saved agents, after 35.0% of the number of episodes, is 11.04/18;\n",
      "Number of saved agents, after 40.0% of the number of episodes, is 11.08/18;\n",
      "Number of saved agents, after 45.0% of the number of episodes, is 11.12/18;\n",
      "Number of saved agents, after 50.0% of the number of episodes, is 11.15/18;\n",
      "Number of saved agents, after 55.0% of the number of episodes, is 11.18/18;\n",
      "Number of saved agents, after 60.0% of the number of episodes, is 11.20/18;\n",
      "Number of saved agents, after 65.0% of the number of episodes, is 11.22/18;\n",
      "Number of saved agents, after 70.0% of the number of episodes, is 11.25/18;\n",
      "Number of saved agents, after 75.0% of the number of episodes, is 11.27/18;\n",
      "Number of saved agents, after 80.0% of the number of episodes, is 11.29/18;\n",
      "Number of saved agents, after 85.0% of the number of episodes, is 11.30/18;\n",
      "Number of saved agents, after 90.0% of the number of episodes, is 11.32/18;\n",
      "Number of saved agents, after 95.0% of the number of episodes, is 11.33/18;\n",
      "Number of saved agents, after 100.0% of the number of episodes, is 11.34/18;\n"
     ]
    }
   ],
   "source": [
    "# Set learning parameters\n",
    "e = 0.1\n",
    "num_episodes = 1 * (10 ** 5)\n",
    "#create lists to contain total rewards and steps per episode\n",
    "rAll = 0\n",
    "limit_cases = 0\n",
    "for ep in range(num_episodes):\n",
    "    #initialize hats\n",
    "    \n",
    "    hats = [np.random.randint(2) for i in range(number_of_agents)]\n",
    "    '''Curriculum Learnig approach\n",
    "    if((sum(hats) <= len(hats) // 2 + 1 and sum(hats) >= len(hats) // 2 - 1)):\n",
    "        hats = [np.random.randint(2) for i in range(number_of_agents)]\n",
    "       \n",
    "    if((sum(hats) <= len(hats) // 2 + 1 and sum(hats) >= len(hats) // 2 - 1)):\n",
    "        hats = [np.random.randint(2) for i in range(number_of_agents)]\n",
    "    \n",
    "    if((sum(hats) <= len(hats) // 2 + 1 and sum(hats) >= len(hats) // 2 - 1)):\n",
    "        hats = [np.random.randint(2) for i in range(number_of_agents)]\n",
    "        \n",
    "    if(sum(hats) <= len(hats) // 2 + 1 and sum(hats) >= len(hats) // 2 - 1):\n",
    "        limit_cases += 1\n",
    "    '''\n",
    "    #print(hats)\n",
    "    \n",
    "    #trasform the seen hats into inputs for the network\n",
    "    states = [hats[:i] + hats[i+1:] for i in range(number_of_agents)]\n",
    "    \n",
    "\n",
    "    #The Q-Network\n",
    "    #Take actions in for the agents\n",
    "    actions = []\n",
    "    batch = []\n",
    "    for i in range(number_of_agents):\n",
    "        state = states[i] #np.array(states[i]) / number_of_agents #normalize the input\n",
    "        #print(inputs1[i])\n",
    "        #print(state)\n",
    "        \n",
    "        #one hot encode what the agent sees\n",
    "#         q_input = [bite for color in state \\\n",
    "#                    for bite in (color * [0] + [1] + (number_of_agents - color - 1) * [0])]\n",
    "        #apend agent's index\n",
    "#         q_input += i * [0] + [1] + (number_of_agents - i - 1) * [0]\n",
    "        \n",
    "\n",
    "        q_input = [[1, 0] if color == 0 else [0, 1] for color in state]\n",
    "        q_input += [i * [0] + [1] + (number_of_agents - i - 1) * [0]]\n",
    "        q_input = [bit for q in q_input for bit in q]\n",
    "#         print(q_input)\n",
    "        batch.append(np.reshape(q_input, (-1, 3 * number_of_agents - 2)))#-1, 2 * number_of_agents - 1)) / number_of_agents)\n",
    "#     break\n",
    "#     print(batch)\n",
    "    predictions = model.predict( np.reshape(batch,\\\n",
    "                                            (number_of_agents, 3 * number_of_agents - 2))\\\n",
    "                                , batch_size=number_of_agents)\n",
    "#     print(predictions)\n",
    "    \n",
    "#     action      = predictions[0].argmax()\n",
    "\n",
    "    actions = [np.random.randint(2) if np.random.rand(1) < e else p.argmax()\\\n",
    "               for p in predictions] \n",
    "    preds = np.choose(actions, predictions.T)\n",
    "#     print([x for x in zip(actions, preds)])\n",
    "    actions = list(zip(actions, predictions))\n",
    "#     print(actions)\n",
    "    \n",
    "#     if np.random.rand(1) < e:\n",
    "#         action = np.random.randint(number_of_agents) #env.action_space.sample()\n",
    "#     actions.append((action, predictions[0]))\n",
    "\n",
    "        #print(action, predictions, hats)\n",
    "    \n",
    "    validate = sum(actions[x][0] == hats[x] for x in range(number_of_agents))\n",
    "#     r = 0\n",
    "#     r += 1 if validate >= 1 else 0\n",
    "    \n",
    "    r = 2 ** validate - 2 ** (number_of_agents//2 + 1)  \n",
    "    #r = .1 if r == 1 else 0\n",
    "    \n",
    "    targetQ = []\n",
    "    batch = []\n",
    "    #update the Q networks\n",
    "    for i in range(number_of_agents):\n",
    "        targetQ.append(list(actions[i][1]))\n",
    "        targetQ[i][actions[i][0]] = r#1 if r == 1 else -10#(2 * r - 1)\n",
    "\n",
    "#         print(targetQ)\n",
    "\n",
    "        state = states[i] #np.reshape(np.array(states[i]) / number_of_agents, (-1, number_of_agents - 1))\n",
    "        #one hot encode what the agent sees\n",
    "#         q_input = [bite for color in state \\\n",
    "#                    for bite in (color * [0] + [1] + (number_of_agents - color - 1) * [0])]\n",
    "        #apend agent's index\n",
    "#         q_input += i * [0] + [1] + (number_of_agents - i - 1) * [0]\n",
    "        \n",
    "        q_input = [[1, 0] if color == 0 else [0, 1] for color in state]\n",
    "        q_input += [i * [0] + [1] + (number_of_agents - i - 1) * [0]]\n",
    "        q_input = [bit for q in q_input for bit in q]\n",
    "#         print(q_input)\n",
    "        batch.append(np.reshape(q_input, (-1, 3 * number_of_agents - 2)))\n",
    "        \n",
    "        \n",
    "    targetQ = np.reshape(targetQ, (number_of_agents, -1))   \n",
    "\n",
    "#     print(batch)\n",
    "#     print(hats)\n",
    "# #     print(actions)\n",
    "#     print(\"Guesses:    \",[a[0] for a in actions])\n",
    "#     print(targetQ)\n",
    "#     print(np.reshape(batch, (number_of_agents, 3 * number_of_agents - 2)))\n",
    "    model.fit(np.reshape(batch, (number_of_agents, 3 * number_of_agents - 2))\\\n",
    "              , targetQ, batch_size=number_of_agents, verbose=0)\n",
    "#         else:\n",
    "#             ep -= 1\n",
    "#             continue\n",
    "#     print(\"Hats colors:\", hats)\n",
    "#     print(\"%d blacks\" %sum(hats))\n",
    "#     #print(batch)\n",
    "#     print(\"Guesses:    \",[a[0] for a in actions])\n",
    "#     #print(targetQ)\n",
    "#     print(\"Succes:\", validate)\n",
    "#     print(\"Reward: %d\" %r)\n",
    "#     break   \n",
    "#     #record rewards\n",
    "    rAll += validate #* 10\n",
    "    if(ep % 200 == 199):\n",
    "        if(ep % 5000 == 4999):\n",
    "            print(\"Number of saved agents, after {0:.1f}% of the number of episodes, is {1:.2f}/{2:d};\"\\\n",
    "                  .format(100 * ep / num_episodes,\\\n",
    "                          (sum(rList[-19:]) + (rAll / 200. )) / (len(rList[-19:]) + 1),\\\n",
    "                          number_of_agents))\n",
    "#             print(\"Got correct {0:d} out of 200.\".format(rAll))\n",
    "#             if(rAll == 200):\n",
    "#                 print(\"The model is perfect!\")\n",
    "#                 break\n",
    "        #Reduce chance of random action as we train the model.\n",
    "        e = 1./((ep/10) + 10)\n",
    "\n",
    "        #Updated accuracy\n",
    "#         rList.append(r)\n",
    "        \n",
    "        rList.append((sum(rList[-19:]) + (rAll/200.) ) / (len(rList[-19:]) + 1))\n",
    "\n",
    "        \n",
    "#         if(rAll == 200):\n",
    "#                 print(\"Accuracy after {0:.1f}% of the number of episodes is {1:.2f};\"\\\n",
    "#                   .format(100 * ep / num_episodes, rAll / 200.))\n",
    "#                 print(\"The training phases lasted for {0:d} episodes.\".format(ep))\n",
    "#                 print(\"The model is perfect!\")\n",
    "#                 break\n",
    "        rAll = 0\n"
   ]
  },
  {
   "cell_type": "markdown",
   "metadata": {},
   "source": [
    "Even if the number of saved agents appeares to increase. The results are obtained on the training set.\n",
    "\n",
    "The performance on the test appeares to be same as random:"
   ]
  },
  {
   "cell_type": "code",
   "execution_count": 305,
   "metadata": {
    "scrolled": false
   },
   "outputs": [
    {
     "data": {
      "text/plain": [
       "8.9324999999999992"
      ]
     },
     "execution_count": 305,
     "metadata": {},
     "output_type": "execute_result"
    }
   ],
   "source": [
    "test_accuracy(model)"
   ]
  },
  {
   "cell_type": "code",
   "execution_count": 303,
   "metadata": {
    "scrolled": false
   },
   "outputs": [
    {
     "name": "stdout",
     "output_type": "stream",
     "text": [
      "For training 18 agents (using Q nets), for 100000 episodes,\n",
      "the number started at: 9.855 and reached: 11.3362166388\n"
     ]
    },
    {
     "data": {
      "image/png": "[encoded data removed]",
      "text/plain": [
       "<matplotlib.figure.Figure at 0x7efc98e94e80>"
      ]
     },
     "metadata": {},
     "output_type": "display_data"
    }
   ],
   "source": [
    "batch_accuracy = rList\n",
    "plt.figure(figsize=(8, 4), dpi= 120)\n",
    "plt.axes()\n",
    "plt.title(\"Saved prisoners improvement for {0:d} prisoners using Q nets\".format(number_of_agents))\n",
    "plt.plot(batch_accuracy, label = \"Accuracy\")\n",
    "plt.yscale(\"linear\")\n",
    "plt.xlabel(\"Training epochs in 200s\")\n",
    "plt.legend()\n",
    "plt.grid(linestyle='--')\n",
    "\n",
    "\n",
    "print(\"For training\", number_of_agents, \"agents (using Q nets), for\", num_episodes, \"episodes,\")\n",
    "print(\"the number started at:\", batch_accuracy[0], \"and reached:\", batch_accuracy[-1])"
   ]
  }
 ],
 "metadata": {
  "kernelspec": {
   "display_name": "Python [default]",
   "language": "python",
   "name": "python3"
  },
  "language_info": {
   "codemirror_mode": {
    "name": "ipython",
    "version": 3
   },
   "file_extension": ".py",
   "mimetype": "text/x-python",
   "name": "python",
   "nbconvert_exporter": "python",
   "pygments_lexer": "ipython3",
   "version": "3.6.4"
  }
 },
 "nbformat": 4,
 "nbformat_minor": 2
}
