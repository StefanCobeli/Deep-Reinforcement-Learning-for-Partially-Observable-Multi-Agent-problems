{
 "cells": [
  {
   "cell_type": "markdown",
   "metadata": {},
   "source": [
    "# Hats Riddle\n"
   ]
  },
  {
   "cell_type": "markdown",
   "metadata": {},
   "source": [
    "_In a jail there are 100 prisoners that behaved well in the last year. The\n",
    "  jail chief decides to test their social abilities of cooperation and to release\n",
    "  the prisoners who prove to be good teammates. In order to do so, he\n",
    "  communicates the following task to the prisoners. Next morning, all 100\n",
    "  prisoners will be placed in a random ordered row in such a way that the\n",
    "  first prisoner will clearly see the other 99, the second one will see only the\n",
    "  following 98 and so on. After that, on each of their heads will be placed\n",
    "  a hat of a random color, blue or red, but they will only know the colors\n",
    "  of the prisoner’s hats in front of them (they won’t know the color of their\n",
    "  own hat or the colors of the hats behind them)._\n",
    " \n",
    "_Starting with the prisoner that can see all the others and going one by\n",
    "  one till the last prisoner which can not see anybody, they will need to\n",
    "  guess what is the color of their own hat. Their guesses will be heard by\n",
    "  all the other prisoners and if the guess is correct, then the guesser will be\n",
    "  released, otherwise he will be send back in his cell._\n",
    "\n",
    "_The prisoners are left overnight to come up with a strategy of how they\n",
    "  should behave the next morning in order to maximize the number of those\n",
    "  who will be released._\n",
    "\n",
    "<sup>Text inspired from the problem _Red and Blue hats, Version II_, P. Winkler, Mathematical Puzzles: A Connoisseur’s Collection, A.K.Peters, 2004.</sup>\n"
   ]
  },
  {
   "cell_type": "markdown",
   "metadata": {},
   "source": [
    "Architecture, methodology and notations inspired from the paper [Learning to Communicate to Solve Riddles with Deep Distributed Recurrent Q-Networks](https://www.semanticscholar.org/paper/Learning-to-Communicate-to-Solve-Riddles-with-Deep-Foerster-Assael/52cb696af18aad0383770071d150137c39404edf)."
   ]
  },
  {
   "cell_type": "code",
   "execution_count": 1,
   "metadata": {},
   "outputs": [
    {
     "name": "stderr",
     "output_type": "stream",
     "text": [
      "Using TensorFlow backend.\n"
     ]
    }
   ],
   "source": [
    "from keras.layers import Input, Add, Embedding, LSTM, Dense\n",
    "from keras.layers import Reshape, Concatenate\n",
    "from keras.models import Model"
   ]
  },
  {
   "cell_type": "code",
   "execution_count": 2,
   "metadata": {
    "collapsed": true
   },
   "outputs": [],
   "source": [
    "number_of_agents = 4"
   ]
  },
  {
   "cell_type": "markdown",
   "metadata": {},
   "source": [
    "Using the notations from the article we first declare: $a^k, s^k$ (inputs of the actions/hats observed by each agent) and $m, n$ (the index of each agent and the total number of agents)."
   ]
  },
  {
   "cell_type": "code",
   "execution_count": 3,
   "metadata": {
    "collapsed": true
   },
   "outputs": [],
   "source": [
    "\n",
    "#a^k\n",
    "action_inputs      = [Input(shape=(1,), dtype='float32', name='action_inputs_' + str(i))\\\n",
    "                      for i in range(number_of_agents - 1)]\n",
    "#tf.placeholder(tf.float64, shape=(1, 1))\n",
    "\n",
    "#s^k\n",
    "observation_inputs = [Input(shape=(1,), dtype='float32', name='observation_inputs_' + str(i))\\\n",
    "                      for i in range(number_of_agents - 1)]\n",
    "#tf.placeholder(tf.float64, shape=(1, 1))\n",
    "\n",
    "#(m, n)\n",
    "index_inputs       = Input(shape=(2,), dtype='float32', name='index_inputs')"
   ]
  },
  {
   "cell_type": "markdown",
   "metadata": {},
   "source": [
    "Now we define $z^k_a$ and $z^k_s$, the output of the MLPs which will be feeded to the LSTM network."
   ]
  },
  {
   "cell_type": "code",
   "execution_count": 4,
   "metadata": {
    "collapsed": true
   },
   "outputs": [],
   "source": [
    "index_mlp          = Dense(64, activation='relu', name=\"index_mlp\")(index_inputs)\n",
    "#z_a^k\n",
    "action_mlps        = [Dense(64, activation='relu')(action_input) \\\n",
    "                      for action_input in action_inputs]\n",
    "action_lstm_inputs = [Add()([action_mlp, index_mlp]) \\\n",
    "                      for action_mlp in action_mlps]\n",
    "\n",
    "\n",
    "#z_s^k\n",
    "observation_mlps        = [Dense(64, activation='relu')(observation_input)\\\n",
    "                           for observation_input in observation_inputs]\n",
    "observation_lstm_inputs = [Add()([observation_mlp, index_mlp])\\\n",
    "                           for observation_mlp in observation_mlps]"
   ]
  },
  {
   "cell_type": "markdown",
   "metadata": {},
   "source": [
    "Now we define the LSTMs with the outputs $y_a^k, h_a^k$ and $y_s^k, h_s^k$ which will be passed to another MLP\n",
    "to predict the final decision. "
   ]
  },
  {
   "cell_type": "code",
   "execution_count": 5,
   "metadata": {
    "collapsed": true
   },
   "outputs": [],
   "source": [
    "#actions lstm construction\n",
    "\n",
    "#reshape the output of the dense layer in order to be a sequence of 64 inputs\n",
    "action_lstm_inputs_block   = Reshape((-1,64), name=\"action_lstm_inputs\")(Concatenate(axis=1)(action_lstm_inputs))\n",
    "action_lstm                = LSTM(64, name=\"action_lstm\")(action_lstm_inputs_block)\n",
    "\n",
    "#same approach for the observations lstm\n",
    "observation_lstm_inputs_block = Reshape((-1,64), name=\"observation_lstm_inputs\")(Concatenate(axis=1)(observation_lstm_inputs))\n",
    "observation_lstm              = LSTM(64, name=\"observation_lstm\")(observation_lstm_inputs_block)"
   ]
  },
  {
   "cell_type": "markdown",
   "metadata": {},
   "source": [
    "Now we create the last part of the model. We feed the output of the LSTMs to an MLP in order to get the predictions $Q^m, m \\in [1, n]$."
   ]
  },
  {
   "cell_type": "code",
   "execution_count": 6,
   "metadata": {},
   "outputs": [
    {
     "data": {
      "text/plain": [
       "<tf.Tensor 'prediction_output/Relu:0' shape=(?, 1) dtype=float32>"
      ]
     },
     "execution_count": 6,
     "metadata": {},
     "output_type": "execute_result"
    }
   ],
   "source": [
    "prediction_inputs  = Concatenate(axis=1, name=\"prediction_inputs\")([action_lstm, observation_lstm])\n",
    "\n",
    "prediction_layer_1 = Dense(64, activation='relu', name=\"prediction_layer_1\")(prediction_inputs)\n",
    "prediction_layer_2 = Dense(64, activation='relu', name=\"prediction_layer_2\")(prediction_layer_1)\n",
    "prediction_output  = Dense(1, activation='relu', name=\"prediction_output\")(prediction_layer_2)\n",
    "\n",
    "prediction_output"
   ]
  },
  {
   "cell_type": "markdown",
   "metadata": {},
   "source": [
    "Assemble all layers into a model:"
   ]
  },
  {
   "cell_type": "code",
   "execution_count": 7,
   "metadata": {
    "collapsed": true
   },
   "outputs": [],
   "source": [
    "model = Model(inputs=action_inputs + observation_inputs + [index_inputs],\\\n",
    "              outputs=[prediction_output])"
   ]
  },
  {
   "cell_type": "markdown",
   "metadata": {},
   "source": [
    "The architecture in the [paper](https://www.semanticscholar.org/paper/Learning-to-Communicate-to-Solve-Riddles-with-Deep-Foerster-Assael/52cb696af18aad0383770071d150137c39404edf) looks like this:\n",
    "\n",
    "\n",
    "![](https://ai2-s2-public.s3.amazonaws.com/figures/2017-08-08/52cb696af18aad0383770071d150137c39404edf/5-Figure3-1.png)\n",
    "<!--img src=\"5-Figure3-1.png\"-->"
   ]
  },
  {
   "cell_type": "markdown",
   "metadata": {},
   "source": [
    "In keras, the architecture is as follows:"
   ]
  },
  {
   "cell_type": "code",
   "execution_count": 8,
   "metadata": {
    "scrolled": true
   },
   "outputs": [
    {
     "name": "stdout",
     "output_type": "stream",
     "text": [
      "__________________________________________________________________________________________________\n",
      "Layer (type)                    Output Shape         Param #     Connected to                     \n",
      "==================================================================================================\n",
      "action_inputs_0 (InputLayer)    (None, 1)            0                                            \n",
      "__________________________________________________________________________________________________\n",
      "index_inputs (InputLayer)       (None, 2)            0                                            \n",
      "__________________________________________________________________________________________________\n",
      "action_inputs_1 (InputLayer)    (None, 1)            0                                            \n",
      "__________________________________________________________________________________________________\n",
      "action_inputs_2 (InputLayer)    (None, 1)            0                                            \n",
      "__________________________________________________________________________________________________\n",
      "observation_inputs_0 (InputLaye (None, 1)            0                                            \n",
      "__________________________________________________________________________________________________\n",
      "observation_inputs_1 (InputLaye (None, 1)            0                                            \n",
      "__________________________________________________________________________________________________\n",
      "observation_inputs_2 (InputLaye (None, 1)            0                                            \n",
      "__________________________________________________________________________________________________\n",
      "dense_1 (Dense)                 (None, 64)           128         action_inputs_0[0][0]            \n",
      "__________________________________________________________________________________________________\n",
      "index_mlp (Dense)               (None, 64)           192         index_inputs[0][0]               \n",
      "__________________________________________________________________________________________________\n",
      "dense_2 (Dense)                 (None, 64)           128         action_inputs_1[0][0]            \n",
      "__________________________________________________________________________________________________\n",
      "dense_3 (Dense)                 (None, 64)           128         action_inputs_2[0][0]            \n",
      "__________________________________________________________________________________________________\n",
      "dense_4 (Dense)                 (None, 64)           128         observation_inputs_0[0][0]       \n",
      "__________________________________________________________________________________________________\n",
      "dense_5 (Dense)                 (None, 64)           128         observation_inputs_1[0][0]       \n",
      "__________________________________________________________________________________________________\n",
      "dense_6 (Dense)                 (None, 64)           128         observation_inputs_2[0][0]       \n",
      "__________________________________________________________________________________________________\n",
      "add_1 (Add)                     (None, 64)           0           dense_1[0][0]                    \n",
      "                                                                 index_mlp[0][0]                  \n",
      "__________________________________________________________________________________________________\n",
      "add_2 (Add)                     (None, 64)           0           dense_2[0][0]                    \n",
      "                                                                 index_mlp[0][0]                  \n",
      "__________________________________________________________________________________________________\n",
      "add_3 (Add)                     (None, 64)           0           dense_3[0][0]                    \n",
      "                                                                 index_mlp[0][0]                  \n",
      "__________________________________________________________________________________________________\n",
      "add_4 (Add)                     (None, 64)           0           dense_4[0][0]                    \n",
      "                                                                 index_mlp[0][0]                  \n",
      "__________________________________________________________________________________________________\n",
      "add_5 (Add)                     (None, 64)           0           dense_5[0][0]                    \n",
      "                                                                 index_mlp[0][0]                  \n",
      "__________________________________________________________________________________________________\n",
      "add_6 (Add)                     (None, 64)           0           dense_6[0][0]                    \n",
      "                                                                 index_mlp[0][0]                  \n",
      "__________________________________________________________________________________________________\n",
      "concatenate_1 (Concatenate)     (None, 192)          0           add_1[0][0]                      \n",
      "                                                                 add_2[0][0]                      \n",
      "                                                                 add_3[0][0]                      \n",
      "__________________________________________________________________________________________________\n",
      "concatenate_2 (Concatenate)     (None, 192)          0           add_4[0][0]                      \n",
      "                                                                 add_5[0][0]                      \n",
      "                                                                 add_6[0][0]                      \n",
      "__________________________________________________________________________________________________\n",
      "action_lstm_inputs (Reshape)    (None, 3, 64)        0           concatenate_1[0][0]              \n",
      "__________________________________________________________________________________________________\n",
      "observation_lstm_inputs (Reshap (None, 3, 64)        0           concatenate_2[0][0]              \n",
      "__________________________________________________________________________________________________\n",
      "action_lstm (LSTM)              (None, 64)           33024       action_lstm_inputs[0][0]         \n",
      "__________________________________________________________________________________________________\n",
      "observation_lstm (LSTM)         (None, 64)           33024       observation_lstm_inputs[0][0]    \n",
      "__________________________________________________________________________________________________\n",
      "prediction_inputs (Concatenate) (None, 128)          0           action_lstm[0][0]                \n",
      "                                                                 observation_lstm[0][0]           \n",
      "__________________________________________________________________________________________________\n",
      "prediction_layer_1 (Dense)      (None, 64)           8256        prediction_inputs[0][0]          \n",
      "__________________________________________________________________________________________________\n",
      "prediction_layer_2 (Dense)      (None, 64)           4160        prediction_layer_1[0][0]         \n",
      "__________________________________________________________________________________________________\n",
      "prediction_output (Dense)       (None, 1)            65          prediction_layer_2[0][0]         \n",
      "==================================================================================================\n",
      "Total params: 79,489\n",
      "Trainable params: 79,489\n",
      "Non-trainable params: 0\n",
      "__________________________________________________________________________________________________\n"
     ]
    }
   ],
   "source": [
    "model.summary()"
   ]
  },
  {
   "cell_type": "markdown",
   "metadata": {},
   "source": [
    "### Checkpoint\n",
    "\n",
    "Entire model generation function:"
   ]
  },
  {
   "cell_type": "code",
   "execution_count": 1,
   "metadata": {},
   "outputs": [
    {
     "name": "stderr",
     "output_type": "stream",
     "text": [
      "Using TensorFlow backend.\n"
     ]
    }
   ],
   "source": [
    "from keras.layers import GRU\n",
    "from keras.layers import Input, Add, Embedding, LSTM, Dense\n",
    "from keras.layers import Reshape, Concatenate\n",
    "from keras.models import Model\n",
    "from keras.optimizers import Nadam\n",
    "from keras.initializers import RandomNormal\n",
    "from keras.layers.advanced_activations import LeakyReLU\n",
    "from keras.layers import Activation\n",
    "\n",
    "def generate_model(number_of_agents):\n",
    "    bias_initializer = RandomNormal(mean=0.0, stddev=0.05, seed=None)\n",
    "    activation = 'tanh'#Activation('tanh')#LeakyReLU()\n",
    "    #a^k\n",
    "    action_inputs      = [Input(shape=(1,), dtype='float32', name='action_inputs_' + str(i))\\\n",
    "                          for i in range(number_of_agents - 1)]\n",
    "    #s^k\n",
    "    observation_inputs = [Input(shape=(1,), dtype='float32', name='observation_inputs_' + str(i))\\\n",
    "                          for i in range(number_of_agents - 1)]\n",
    "    #(m, n)\n",
    "    index_inputs       = Input(shape=(2,), dtype='float32', name='index_inputs')\n",
    "\n",
    "    index_mlp          = Dense(64, activation=activation, bias_initializer=bias_initializer, name=\"index_mlp\")(index_inputs)\n",
    "    #z_a^k\n",
    "    action_mlps        = [Dense(64, activation=activation, bias_initializer=bias_initializer)(action_input) \\\n",
    "                          for action_input in action_inputs]\n",
    "    action_lstm_inputs = [Add()([action_mlp, index_mlp]) \\\n",
    "                          for action_mlp in action_mlps]\n",
    "\n",
    "\n",
    "    #z_s^k\n",
    "    observation_mlps        = [Dense(64, activation=activation, bias_initializer=bias_initializer)(observation_input)\\\n",
    "                               for observation_input in observation_inputs]\n",
    "    observation_lstm_inputs = [Add()([observation_mlp, index_mlp])\\\n",
    "                               for observation_mlp in observation_mlps]\n",
    "\n",
    "    #actions lstm construction:\n",
    "    #reshape the output of the dense layer in order to be a sequence of 64 inputs\n",
    "    action_lstm_inputs_block   = Reshape((-1,64), name=\"action_lstm_inputs\")(Concatenate(axis=1)(action_lstm_inputs))\n",
    "    action_lstm                = LSTM(64, activation=activation, bias_initializer=bias_initializer, name=\"action_lstm\")(action_lstm_inputs_block)\n",
    "\n",
    "    #same approach for the observations lstm\n",
    "    observation_lstm_inputs_block = Reshape((-1,64), name=\"observation_lstm_inputs\")(Concatenate(axis=1)(observation_lstm_inputs))\n",
    "    observation_lstm              = LSTM(64, activation=activation, bias_initializer=bias_initializer, name=\"observation_lstm\")(observation_lstm_inputs_block)\n",
    "\n",
    "    prediction_inputs  = Concatenate(axis=1, name=\"prediction_inputs\")([action_lstm, observation_lstm])\n",
    "\n",
    "    prediction_layer_1 = Dense(64, activation=activation, bias_initializer=bias_initializer, name=\"prediction_layer_1\")(prediction_inputs)\n",
    "    prediction_layer_2 = Dense(64, activation=activation, bias_initializer=bias_initializer, name=\"prediction_layer_2\")(prediction_layer_1)\n",
    "    prediction_output  = Dense(2, activation=activation, bias_initializer=bias_initializer, name=\"prediction_output\")(prediction_layer_2)\n",
    "\n",
    "    model = Model(inputs=action_inputs + observation_inputs + [index_inputs],\\\n",
    "                  outputs=[prediction_output])\n",
    "    \n",
    "    \n",
    "    rmsprop = Nadam(lr=5 * 10 ** (-4), beta_1=0.95, beta_2=0.999, schedule_decay=0.004)\n",
    "    model.compile(loss='mean_squared_error', optimizer=rmsprop, )\n",
    "\n",
    "    return model"
   ]
  },
  {
   "cell_type": "markdown",
   "metadata": {},
   "source": [
    "To Do:\n",
    "\n",
    "Test everything goes as expected (i.e. shapes are ok and similar things)"
   ]
  },
  {
   "cell_type": "markdown",
   "metadata": {
    "collapsed": true
   },
   "source": [
    "# Data set creation"
   ]
  },
  {
   "cell_type": "code",
   "execution_count": 3,
   "metadata": {
    "collapsed": true
   },
   "outputs": [],
   "source": [
    "import numpy as np"
   ]
  },
  {
   "cell_type": "markdown",
   "metadata": {},
   "source": [
    "Create empty dictionary to store all inputs:"
   ]
  },
  {
   "cell_type": "code",
   "execution_count": 4,
   "metadata": {
    "collapsed": true
   },
   "outputs": [],
   "source": [
    "def generate_empty_inputs(number_of_agents):\n",
    "    input_names = [\"index_inputs\"] +\\\n",
    "    [\"action_inputs_\" + str(i) for i in range(number_of_agents - 1)] +\\\n",
    "    [\"observation_inputs_\" + str(i) for i in range(number_of_agents - 1)]\n",
    "\n",
    "    inputs                 = {name: np.empty((1, 1))[1:] for name in input_names}\n",
    "    inputs[\"index_inputs\"] = np.empty((1, 2))[1:]\n",
    "    return inputs"
   ]
  },
  {
   "cell_type": "markdown",
   "metadata": {},
   "source": [
    "Make hat distribution"
   ]
  },
  {
   "cell_type": "code",
   "execution_count": 5,
   "metadata": {},
   "outputs": [
    {
     "data": {
      "text/plain": [
       "array([[2, 1, 2, 1],\n",
       "       [1, 1, 1, 2],\n",
       "       [1, 1, 1, 1]])"
      ]
     },
     "execution_count": 5,
     "metadata": {},
     "output_type": "execute_result"
    }
   ],
   "source": [
    "def draw_hats(number_of_agents):\n",
    "    '''return an array, with 1's and 2's, of length number_of_agents'''\n",
    "    return [np.random.randint(1, 3) for i in range(number_of_agents)]\n",
    "\n",
    "def draw_hats_batch(number_of_agents, batch_size):\n",
    "    '''return an array, of length batch_size, of arrays, with 1's and 2's, of length number_of_agents'''\n",
    "    return np.random.randint(1, 3, size=(batch_size, number_of_agents))\n",
    "#[draw_hats(number_of_agents) for i in range(batch_size)]\n",
    "\n",
    "draw_hats_batch(number_of_agents=4, batch_size=3)"
   ]
  },
  {
   "cell_type": "markdown",
   "metadata": {},
   "source": [
    "Legend:\n",
    "- Agent indexes are $m \\in [1, number\\_of\\_agents] \\cap \\mathbb{N}$;\n",
    "- Colors of hats are $1$ or $2$;\n",
    "- 0 means only boarding (observations/actions).\n"
   ]
  },
  {
   "cell_type": "code",
   "execution_count": 6,
   "metadata": {},
   "outputs": [
    {
     "data": {
      "text/plain": [
       "{'action_inputs_0': array([[ 1.]]),\n",
       " 'action_inputs_1': array([[ 2.]]),\n",
       " 'index_inputs': array([[ 3.,  3.]]),\n",
       " 'observation_inputs_0': array([[ 0.]]),\n",
       " 'observation_inputs_1': array([[ 0.]])}"
      ]
     },
     "execution_count": 6,
     "metadata": {},
     "output_type": "execute_result"
    }
   ],
   "source": [
    "#method to be tested and to be added edge cases\n",
    "\n",
    "def generate_single_input(hats, agent_idx, taken_actions):\n",
    "    '''\n",
    "    hats:             the distribution of hats;\n",
    "    agent_idx:        the agent for which the input is generated;\n",
    "    taken_actions:    what the agent sayed before, borded with zeros.\n",
    "    \n",
    "    len(hats) == len(taken_actions)\n",
    "    \n",
    "    e.g.\n",
    "    generate_input(hats=[1, 2, 1, 1], agent_idx=1, taken_actions=[0, 0, 0, 0])\n",
    "    '''\n",
    "    number_of_agents = len(hats)\n",
    "\n",
    "    inputs = generate_empty_inputs(number_of_agents)\n",
    "\n",
    "    #record previous actions\n",
    "    actions = list(taken_actions)[agent_idx:] + [0] * (agent_idx - 1)\n",
    "    for action, i in zip(taken_actions, range(number_of_agents - 1)):\n",
    "        input_name         = \"action_inputs_\" + str(i) \n",
    "        inputs[input_name] = np.vstack([inputs[input_name], [action]])\n",
    "\n",
    "    #record observations\n",
    "    observations = list(hats)[agent_idx:] + [0] * (agent_idx - 1)\n",
    "    for observation, i in zip(observations, range(number_of_agents - 1)):\n",
    "        input_name         = \"observation_inputs_\" + str(i)\n",
    "        inputs[input_name] = np.vstack([inputs[input_name], [observation]])\n",
    "\n",
    "    #record indexes\n",
    "    inputs[\"index_inputs\"] = np.vstack([inputs[\"index_inputs\"], [agent_idx, number_of_agents]])\n",
    "    \n",
    "    return inputs\n",
    "\n",
    "generate_single_input(np.array([1, 2, 1]), 3, np.array([1, 2, 0]))"
   ]
  },
  {
   "cell_type": "code",
   "execution_count": 7,
   "metadata": {},
   "outputs": [
    {
     "data": {
      "text/plain": [
       "{'action_inputs_0': array([[ 1.],\n",
       "        [ 2.]]), 'action_inputs_1': array([[ 2.],\n",
       "        [ 1.]]), 'action_inputs_2': array([[ 1.],\n",
       "        [ 2.]]), 'index_inputs': array([[ 4.,  4.],\n",
       "        [ 4.,  4.]]), 'observation_inputs_0': array([[ 0.],\n",
       "        [ 0.]]), 'observation_inputs_1': array([[ 0.],\n",
       "        [ 0.]]), 'observation_inputs_2': array([[ 0.],\n",
       "        [ 0.]])}"
      ]
     },
     "execution_count": 7,
     "metadata": {},
     "output_type": "execute_result"
    }
   ],
   "source": [
    "from functools import reduce\n",
    "\n",
    "def generate_batch_input(hats_batch, agent_idx, previous_actions_batch):\n",
    "    '''\n",
    "    calls generate_single_input() for each pair from zip(hats_batch, previous_actions_batch)\n",
    "    '''\n",
    "    inputs_list = [generate_single_input(hats, agent_idx, prev_acts) \\\n",
    "                   for hats, prev_acts in zip(hats_batch, previous_actions_batch)]\n",
    "    inputs = {}\n",
    "    for name in inputs_list[0]:\n",
    "        inputs[name] = reduce(lambda x, y: np.vstack((x, y)), [inp[name] for inp in inputs_list]) \n",
    "    return inputs\n",
    "\n",
    "generate_batch_input([[1, 2, 1, 1], [2, 1, 1, 1]], 4, [[1, 2, 1, 0], [2, 1, 2, 0]])"
   ]
  },
  {
   "cell_type": "markdown",
   "metadata": {},
   "source": [
    "# Write episodes flow"
   ]
  },
  {
   "cell_type": "code",
   "execution_count": 8,
   "metadata": {},
   "outputs": [
    {
     "data": {
      "text/plain": [
       "array([[ 0.,  0.,  0.],\n",
       "       [ 0.,  0.,  0.],\n",
       "       [ 0.,  0.,  0.],\n",
       "       [ 0.,  0.,  0.]])"
      ]
     },
     "execution_count": 8,
     "metadata": {},
     "output_type": "execute_result"
    }
   ],
   "source": [
    "def generate_first_agents_hearings(number_of_agents, batch_size):\n",
    "    return np.zeros((batch_size, number_of_agents))#[[0] * (number_of_agents - 1) for i in range(batch_size)]\n",
    "\n",
    "generate_first_agents_hearings(number_of_agents=3, batch_size=4)"
   ]
  },
  {
   "cell_type": "code",
   "execution_count": 9,
   "metadata": {
    "collapsed": true
   },
   "outputs": [],
   "source": [
    "def generate_hearings_from_predictions(predictions, epsilon):\n",
    "    hearnings = [prediction.argmax() + 1 if np.random.rand() > epsilon else np.random.randint(1, 3) \\\n",
    "                 for prediction in predictions]\n",
    "    return np.array(hearnings)"
   ]
  },
  {
   "cell_type": "code",
   "execution_count": 10,
   "metadata": {
    "collapsed": true,
    "scrolled": true
   },
   "outputs": [],
   "source": [
    "number_of_agents = 3\n",
    "model = generate_model(number_of_agents)\n",
    "batch_size   = 20\n",
    "num_episodes = 10 ** 5\n",
    "epsilon = .3\n",
    "average_saved_agents = [number_of_agents / 2] * 20"
   ]
  },
  {
   "cell_type": "code",
   "execution_count": null,
   "metadata": {
    "scrolled": false
   },
   "outputs": [
    {
     "name": "stdout",
     "output_type": "stream",
     "text": [
      "Number of saved agents after 100000, out of 100000 (100.00%), episodes is 1.98."
     ]
    }
   ],
   "source": [
    "import sys\n",
    "\n",
    "for episode in range(num_episodes):\n",
    "    hats_batch = draw_hats_batch(number_of_agents=number_of_agents, batch_size=batch_size)\n",
    "\n",
    "    ### Make guesses:\n",
    "    #first agents hearings\n",
    "    past_hearings = generate_first_agents_hearings(number_of_agents=number_of_agents, batch_size=batch_size) \n",
    "    model_inputs  = []\n",
    "    predictions   = []\n",
    "    for m in range(number_of_agents):\n",
    "        #predict each agents outcome\n",
    "        model_inputs.append(generate_batch_input(hats_batch, m + 1, past_hearings))\n",
    "        predictions.append(model.predict(model_inputs[-1]))\n",
    "        #e-greedy\n",
    "#         print(predictions[-1])\n",
    "        current_hearings = generate_hearings_from_predictions(predictions[-1], epsilon)\n",
    "        predictions[-1][0][current_hearings[0] - 1] = number_of_agents\n",
    "#         print(predictions[-1])\n",
    "        past_hearings[:, m] = current_hearings.flatten()\n",
    "    #     print(current_hearings)\n",
    "    #     print(past_hearings)\n",
    "\n",
    "#     break\n",
    "    #Validate guesses\n",
    "\n",
    "    total_rewards = (past_hearings == hats_batch).sum(axis=1) \n",
    "    average_over_time = float(round((sum(average_saved_agents[-19:])\\\n",
    "                                     + (sum(total_rewards) / len(total_rewards)))\\\n",
    "                                    /20, 2))\n",
    "    average_saved_agents.append(average_over_time)\n",
    "#     print(\"Hats:\", hats_batch)\n",
    "#     [print(m) for m in model_inputs]\n",
    "#     print(\"Agents' predictions:\", [list(p[0]) for p in predictions])\n",
    "#     print(\"Hearins:\", past_hearings)\n",
    "#     print(\"Rewards\", total_rewards)\n",
    "\n",
    "    #update model\n",
    "    for m in range(number_of_agents):\n",
    "        labels = predictions[m]\n",
    "        labels[range(len(labels)), labels.argmax(axis=1)] = total_rewards - (number_of_agents / 2)\n",
    "        inputs=(model_inputs[m])\n",
    "#         print(labels)\n",
    "        model.fit(inputs, labels, verbose=0, batch_size=batch_size)\n",
    "#     break\n",
    "    if(episode % 100 == 99):\n",
    "        saved_average = average_saved_agents[-1]\n",
    "        training_percentage = (episode + 1) / num_episodes * 100\n",
    "        sys.stdout.write(\"\\rNumber of saved agents after {0:d}, out of {1:d} ({2:.2f}%), episodes is {3:.2f}.\"\\\n",
    "              .format(episode + 1, num_episodes, training_percentage, saved_average))\n",
    "    \n",
    "    if(episode % 1000 == 99):\n",
    "        epsilon = max(.01, epsilon - .01)"
   ]
  },
  {
   "cell_type": "code",
   "execution_count": null,
   "metadata": {
    "collapsed": true
   },
   "outputs": [],
   "source": [
    "np.savetxt(\"results/statistics/hats_riddle/average_saved_agents_{0:d}\"\\\n",
    "           .format(number_of_agents), average_saved_agents)"
   ]
  },
  {
   "cell_type": "code",
   "execution_count": 421,
   "metadata": {
    "scrolled": false
   },
   "outputs": [
    {
     "name": "stdout",
     "output_type": "stream",
     "text": [
      "For training 3 agents (using Q nets), for 100000 episodes,\n",
      "the number started at: 1.49 and reached: 2.02\n"
     ]
    },
    {
     "data": {
      "image/png": "[encoded data removed]",
      "text/plain": [
       "<matplotlib.figure.Figure at 0x7f6cf4da7898>"
      ]
     },
     "metadata": {},
     "output_type": "display_data"
    }
   ],
   "source": [
    "import matplotlib.pyplot as plt\n",
    "%matplotlib inline\n",
    "def plot_statistics(saved_averages, num_episodes, number_of_agents):\n",
    "    num_episodes = len(saved_averages)\n",
    "    batch_accuracy = [sum(saved_averages[i*100: (i+1) * 100]) / 100 for i in range(len(saved_averages) // 100)]\n",
    "    plt.figure(figsize=(4, 4), dpi= 120)\n",
    "    plt.axes()\n",
    "    plt.title(\"Saved prisoners improvement for {0:d} prisoners using Q nets\".format(number_of_agents))\n",
    "    plt.plot(batch_accuracy, label = \"Accuracy\")\n",
    "    plt.yscale(\"linear\")\n",
    "    plt.xlabel(\"Training epochs in 200s\")\n",
    "    plt.legend()\n",
    "    plt.grid(linestyle='--')\n",
    "\n",
    "    print(\"For training\", number_of_agents, \"agents (using Q nets), for\", num_episodes, \"episodes,\")\n",
    "    print(\"the number started at:\", batch_accuracy[0], \"and reached:\", batch_accuracy[-1])\n",
    "\n",
    "plot_statistics(average_saved_agents[1100:], num_episodes, number_of_agents)"
   ]
  }
 ],
 "metadata": {
  "kernelspec": {
   "display_name": "Python [conda root]",
   "language": "python",
   "name": "conda-root-py"
  },
  "language_info": {
   "codemirror_mode": {
    "name": "ipython",
    "version": 3
   },
   "file_extension": ".py",
   "mimetype": "text/x-python",
   "name": "python",
   "nbconvert_exporter": "python",
   "pygments_lexer": "ipython3",
   "version": "3.6.4"
  }
 },
 "nbformat": 4,
 "nbformat_minor": 2
}
